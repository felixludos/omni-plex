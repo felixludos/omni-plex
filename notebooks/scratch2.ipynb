{
 "cells": [
  {
   "cell_type": "code",
   "execution_count": null,
   "metadata": {
    "collapsed": true,
    "ExecuteTime": {
     "end_time": "2023-05-30T17:00:40.820424106Z",
     "start_time": "2023-05-30T17:00:40.805160758Z"
    }
   },
   "outputs": [],
   "source": []
  },
  {
   "cell_type": "code",
   "execution_count": 17,
   "outputs": [],
   "source": [
    "class D:\n",
    "\tdef __get__(self, instance, owner):\n",
    "\t\tprint(f\"{self}.__get__({instance}, {owner})\")\n",
    "\t\treturn self\n",
    "\n",
    "class A:\n",
    "\tdef f(self):\n",
    "\t\tprint(f\"{self} (type: {type(self)})\")\n",
    "\n",
    "\tg = D()\n"
   ],
   "metadata": {
    "collapsed": false,
    "ExecuteTime": {
     "end_time": "2023-06-03T16:28:29.912387145Z",
     "start_time": "2023-06-03T16:28:29.909114925Z"
    }
   }
  },
  {
   "cell_type": "code",
   "execution_count": 20,
   "outputs": [
    {
     "name": "stdout",
     "output_type": "stream",
     "text": [
      "<__main__.D object at 0x7f1b4c403a60>.__get__(<__main__.A object at 0x7f1b4f592e80>, <class '__main__.A'>)\n"
     ]
    },
    {
     "data": {
      "text/plain": "<__main__.D at 0x7f1b4c403a60>"
     },
     "execution_count": 20,
     "metadata": {},
     "output_type": "execute_result"
    }
   ],
   "source": [
    "a = A()\n",
    "a.g"
   ],
   "metadata": {
    "collapsed": false,
    "ExecuteTime": {
     "end_time": "2023-06-04T10:21:05.093246740Z",
     "start_time": "2023-06-04T10:21:05.028939374Z"
    }
   }
  },
  {
   "cell_type": "code",
   "execution_count": 21,
   "outputs": [
    {
     "data": {
      "text/plain": "10"
     },
     "execution_count": 21,
     "metadata": {},
     "output_type": "execute_result"
    }
   ],
   "source": [
    "a.__dict__['g'] = 10\n",
    "a.g"
   ],
   "metadata": {
    "collapsed": false,
    "ExecuteTime": {
     "end_time": "2023-06-04T10:21:13.361216683Z",
     "start_time": "2023-06-04T10:21:13.356308924Z"
    }
   }
  },
  {
   "cell_type": "code",
   "execution_count": 13,
   "outputs": [
    {
     "data": {
      "text/plain": "<bound method A.f of <__main__.A object at 0x7f1b4c453df0>>"
     },
     "execution_count": 13,
     "metadata": {},
     "output_type": "execute_result"
    }
   ],
   "source": [
    "a = A()\n",
    "a.f"
   ],
   "metadata": {
    "collapsed": false,
    "ExecuteTime": {
     "end_time": "2023-06-03T16:27:12.689167850Z",
     "start_time": "2023-06-03T16:27:12.686799482Z"
    }
   }
  },
  {
   "cell_type": "code",
   "execution_count": 14,
   "outputs": [
    {
     "data": {
      "text/plain": "<bound method A.f of <__main__.A object at 0x7f1b4c453df0>>"
     },
     "execution_count": 14,
     "metadata": {},
     "output_type": "execute_result"
    }
   ],
   "source": [
    "a.f.__get__(A(), A)"
   ],
   "metadata": {
    "collapsed": false,
    "ExecuteTime": {
     "end_time": "2023-06-03T16:27:13.422147395Z",
     "start_time": "2023-06-03T16:27:13.407924716Z"
    }
   }
  },
  {
   "cell_type": "code",
   "execution_count": 16,
   "outputs": [
    {
     "name": "stdout",
     "output_type": "stream",
     "text": [
      "<class '__main__.A'> (type: <class 'type'>)\n"
     ]
    }
   ],
   "source": [
    "A.f.__get__(A)()"
   ],
   "metadata": {
    "collapsed": false,
    "ExecuteTime": {
     "end_time": "2023-06-03T16:27:25.232120316Z",
     "start_time": "2023-06-03T16:27:25.227873746Z"
    }
   }
  },
  {
   "cell_type": "code",
   "execution_count": 19,
   "outputs": [
    {
     "name": "stdout",
     "output_type": "stream",
     "text": [
      "<__main__.D object at 0x7f1b4c403a60>.__get__(<__main__.A object at 0x7f1b4c453760>, <class '__main__.A'>)\n"
     ]
    },
    {
     "data": {
      "text/plain": "<__main__.D at 0x7f1b4c403a60>"
     },
     "execution_count": 19,
     "metadata": {},
     "output_type": "execute_result"
    }
   ],
   "source": [
    "A().g"
   ],
   "metadata": {
    "collapsed": false,
    "ExecuteTime": {
     "end_time": "2023-06-03T16:29:54.262291284Z",
     "start_time": "2023-06-03T16:29:54.220510515Z"
    }
   }
  },
  {
   "metadata": {
    "ExecuteTime": {
     "end_time": "2024-04-08T14:40:32.253203Z",
     "start_time": "2024-04-08T14:40:32.247755Z"
    }
   },
   "cell_type": "code",
   "source": [
    "import random\n",
    "import math"
   ],
   "outputs": [],
   "execution_count": 38
  },
  {
   "metadata": {
    "ExecuteTime": {
     "end_time": "2024-04-08T14:43:09.613456Z",
     "start_time": "2024-04-08T14:43:09.609829Z"
    }
   },
   "cell_type": "code",
   "source": [
    "\n",
    "# adapted from https://math.stackexchange.com/questions/1227409/indexing-all-combinations-without-making-list\n",
    "def C(n,k): #computes nCk, the number of combinations n choose k\n",
    "    result = 1\n",
    "    for i in range(n):\n",
    "        result*=(i+1)\n",
    "    for i in range(k):\n",
    "        result//=(i+1)\n",
    "    for i in range(n-k):\n",
    "        result//=(i+1)\n",
    "    return result\n",
    "\n",
    "C = math.comb\n",
    "def cgen(i,n,k):\n",
    "    \"\"\"\n",
    "    returns the i-th combination of k numbers chosen from 0,1,2,...,n-1\n",
    "    \"\"\"\n",
    "    mx = C(n,k)\n",
    "    assert 0 <= i <= mx, f\"i={i} must be in [0, {mx}]\"\n",
    "    c = []\n",
    "    r = i\n",
    "    j = 0\n",
    "    for s in range(1,k+1):\n",
    "        cs = j+1\n",
    "        while r-C(n-cs,k-s)>0:\n",
    "            r -= C(n-cs,k-s)\n",
    "            cs += 1\n",
    "        c.append(cs-1)\n",
    "        j = cs\n",
    "    return c\n"
   ],
   "outputs": [],
   "execution_count": 56
  },
  {
   "metadata": {
    "ExecuteTime": {
     "end_time": "2024-04-08T14:43:10.167092Z",
     "start_time": "2024-04-08T14:43:10.164050Z"
    }
   },
   "cell_type": "code",
   "source": [
    "n = 26\n",
    "k = 10\n",
    "\n",
    "mx = C(n,k)\n",
    "mx"
   ],
   "outputs": [
    {
     "data": {
      "text/plain": [
       "5311735"
      ]
     },
     "execution_count": 57,
     "metadata": {},
     "output_type": "execute_result"
    }
   ],
   "execution_count": 57
  },
  {
   "metadata": {
    "ExecuteTime": {
     "end_time": "2024-04-08T14:43:10.539460Z",
     "start_time": "2024-04-08T14:43:10.535731Z"
    }
   },
   "cell_type": "code",
   "source": [
    "index = random.randint(0, mx)\n",
    "index"
   ],
   "outputs": [
    {
     "data": {
      "text/plain": [
       "3543086"
      ]
     },
     "execution_count": 58,
     "metadata": {},
     "output_type": "execute_result"
    }
   ],
   "execution_count": 58
  },
  {
   "cell_type": "code",
   "source": "cgen(index, n, k)",
   "metadata": {
    "collapsed": false,
    "ExecuteTime": {
     "end_time": "2024-04-08T14:43:16.696994Z",
     "start_time": "2024-04-08T14:43:16.693842Z"
    }
   },
   "outputs": [
    {
     "data": {
      "text/plain": [
       "[2, 3, 5, 13, 15, 16, 18, 19, 20, 25]"
      ]
     },
     "execution_count": 60,
     "metadata": {},
     "output_type": "execute_result"
    }
   ],
   "execution_count": 60
  },
  {
   "metadata": {},
   "cell_type": "code",
   "outputs": [],
   "execution_count": null,
   "source": ""
  },
  {
   "cell_type": "code",
   "execution_count": null,
   "outputs": [],
   "source": [],
   "metadata": {
    "collapsed": false
   }
  }
 ],
 "metadata": {
  "kernelspec": {
   "display_name": "Python 3",
   "language": "python",
   "name": "python3"
  },
  "language_info": {
   "codemirror_mode": {
    "name": "ipython",
    "version": 2
   },
   "file_extension": ".py",
   "mimetype": "text/x-python",
   "name": "python",
   "nbconvert_exporter": "python",
   "pygments_lexer": "ipython2",
   "version": "2.7.6"
  }
 },
 "nbformat": 4,
 "nbformat_minor": 0
}
