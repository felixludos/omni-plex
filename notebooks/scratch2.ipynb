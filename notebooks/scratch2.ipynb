{
 "cells": [
  {
   "cell_type": "code",
   "execution_count": null,
   "metadata": {
    "collapsed": true,
    "ExecuteTime": {
     "end_time": "2023-05-30T17:00:40.820424106Z",
     "start_time": "2023-05-30T17:00:40.805160758Z"
    }
   },
   "outputs": [],
   "source": []
  },
  {
   "cell_type": "code",
   "execution_count": 17,
   "outputs": [],
   "source": [
    "class D:\n",
    "\tdef __get__(self, instance, owner):\n",
    "\t\tprint(f\"{self}.__get__({instance}, {owner})\")\n",
    "\t\treturn self\n",
    "\n",
    "class A:\n",
    "\tdef f(self):\n",
    "\t\tprint(f\"{self} (type: {type(self)})\")\n",
    "\n",
    "\tg = D()\n"
   ],
   "metadata": {
    "collapsed": false,
    "ExecuteTime": {
     "end_time": "2023-06-03T16:28:29.912387145Z",
     "start_time": "2023-06-03T16:28:29.909114925Z"
    }
   }
  },
  {
   "cell_type": "code",
   "execution_count": 20,
   "outputs": [
    {
     "name": "stdout",
     "output_type": "stream",
     "text": [
      "<__main__.D object at 0x7f1b4c403a60>.__get__(<__main__.A object at 0x7f1b4f592e80>, <class '__main__.A'>)\n"
     ]
    },
    {
     "data": {
      "text/plain": "<__main__.D at 0x7f1b4c403a60>"
     },
     "execution_count": 20,
     "metadata": {},
     "output_type": "execute_result"
    }
   ],
   "source": [
    "a = A()\n",
    "a.g"
   ],
   "metadata": {
    "collapsed": false,
    "ExecuteTime": {
     "end_time": "2023-06-04T10:21:05.093246740Z",
     "start_time": "2023-06-04T10:21:05.028939374Z"
    }
   }
  },
  {
   "cell_type": "code",
   "execution_count": 21,
   "outputs": [
    {
     "data": {
      "text/plain": "10"
     },
     "execution_count": 21,
     "metadata": {},
     "output_type": "execute_result"
    }
   ],
   "source": [
    "a.__dict__['g'] = 10\n",
    "a.g"
   ],
   "metadata": {
    "collapsed": false,
    "ExecuteTime": {
     "end_time": "2023-06-04T10:21:13.361216683Z",
     "start_time": "2023-06-04T10:21:13.356308924Z"
    }
   }
  },
  {
   "cell_type": "code",
   "execution_count": 13,
   "outputs": [
    {
     "data": {
      "text/plain": "<bound method A.f of <__main__.A object at 0x7f1b4c453df0>>"
     },
     "execution_count": 13,
     "metadata": {},
     "output_type": "execute_result"
    }
   ],
   "source": [
    "a = A()\n",
    "a.f"
   ],
   "metadata": {
    "collapsed": false,
    "ExecuteTime": {
     "end_time": "2023-06-03T16:27:12.689167850Z",
     "start_time": "2023-06-03T16:27:12.686799482Z"
    }
   }
  },
  {
   "cell_type": "code",
   "execution_count": 14,
   "outputs": [
    {
     "data": {
      "text/plain": "<bound method A.f of <__main__.A object at 0x7f1b4c453df0>>"
     },
     "execution_count": 14,
     "metadata": {},
     "output_type": "execute_result"
    }
   ],
   "source": [
    "a.f.__get__(A(), A)"
   ],
   "metadata": {
    "collapsed": false,
    "ExecuteTime": {
     "end_time": "2023-06-03T16:27:13.422147395Z",
     "start_time": "2023-06-03T16:27:13.407924716Z"
    }
   }
  },
  {
   "cell_type": "code",
   "execution_count": 16,
   "outputs": [
    {
     "name": "stdout",
     "output_type": "stream",
     "text": [
      "<class '__main__.A'> (type: <class 'type'>)\n"
     ]
    }
   ],
   "source": [
    "A.f.__get__(A)()"
   ],
   "metadata": {
    "collapsed": false,
    "ExecuteTime": {
     "end_time": "2023-06-03T16:27:25.232120316Z",
     "start_time": "2023-06-03T16:27:25.227873746Z"
    }
   }
  },
  {
   "cell_type": "code",
   "execution_count": 19,
   "outputs": [
    {
     "name": "stdout",
     "output_type": "stream",
     "text": [
      "<__main__.D object at 0x7f1b4c403a60>.__get__(<__main__.A object at 0x7f1b4c453760>, <class '__main__.A'>)\n"
     ]
    },
    {
     "data": {
      "text/plain": "<__main__.D at 0x7f1b4c403a60>"
     },
     "execution_count": 19,
     "metadata": {},
     "output_type": "execute_result"
    }
   ],
   "source": [
    "A().g"
   ],
   "metadata": {
    "collapsed": false,
    "ExecuteTime": {
     "end_time": "2023-06-03T16:29:54.262291284Z",
     "start_time": "2023-06-03T16:29:54.220510515Z"
    }
   }
  },
  {
   "metadata": {
    "ExecuteTime": {
     "end_time": "2024-04-08T14:40:32.253203Z",
     "start_time": "2024-04-08T14:40:32.247755Z"
    }
   },
   "cell_type": "code",
   "source": [
    "import random\n",
    "import math"
   ],
   "outputs": [],
   "execution_count": 38
  },
  {
   "metadata": {
    "ExecuteTime": {
     "end_time": "2024-04-08T14:43:09.613456Z",
     "start_time": "2024-04-08T14:43:09.609829Z"
    }
   },
   "cell_type": "code",
   "source": [
    "\n",
    "# adapted from https://math.stackexchange.com/questions/1227409/indexing-all-combinations-without-making-list\n",
    "def C(n,k): #computes nCk, the number of combinations n choose k\n",
    "    result = 1\n",
    "    for i in range(n):\n",
    "        result*=(i+1)\n",
    "    for i in range(k):\n",
    "        result//=(i+1)\n",
    "    for i in range(n-k):\n",
    "        result//=(i+1)\n",
    "    return result\n",
    "\n",
    "C = math.comb\n",
    "def cgen(i,n,k):\n",
    "    \"\"\"\n",
    "    returns the i-th combination of k numbers chosen from 0,1,2,...,n-1\n",
    "    \"\"\"\n",
    "    mx = C(n,k)\n",
    "    assert 0 <= i <= mx, f\"i={i} must be in [0, {mx}]\"\n",
    "    c = []\n",
    "    r = i\n",
    "    j = 0\n",
    "    for s in range(1,k+1):\n",
    "        cs = j+1\n",
    "        while r-C(n-cs,k-s)>0:\n",
    "            r -= C(n-cs,k-s)\n",
    "            cs += 1\n",
    "        c.append(cs-1)\n",
    "        j = cs\n",
    "    return c\n"
   ],
   "outputs": [],
   "execution_count": 56
  },
  {
   "metadata": {
    "ExecuteTime": {
     "end_time": "2024-04-08T14:43:10.167092Z",
     "start_time": "2024-04-08T14:43:10.164050Z"
    }
   },
   "cell_type": "code",
   "source": [
    "n = 26\n",
    "k = 10\n",
    "\n",
    "mx = C(n,k)\n",
    "mx"
   ],
   "outputs": [
    {
     "data": {
      "text/plain": [
       "5311735"
      ]
     },
     "execution_count": 57,
     "metadata": {},
     "output_type": "execute_result"
    }
   ],
   "execution_count": 57
  },
  {
   "metadata": {
    "ExecuteTime": {
     "end_time": "2024-04-08T14:43:10.539460Z",
     "start_time": "2024-04-08T14:43:10.535731Z"
    }
   },
   "cell_type": "code",
   "source": [
    "index = random.randint(0, mx)\n",
    "index"
   ],
   "outputs": [
    {
     "data": {
      "text/plain": [
       "3543086"
      ]
     },
     "execution_count": 58,
     "metadata": {},
     "output_type": "execute_result"
    }
   ],
   "execution_count": 58
  },
  {
   "cell_type": "code",
   "source": "cgen(index, n, k)",
   "metadata": {
    "collapsed": false,
    "ExecuteTime": {
     "end_time": "2024-04-08T14:43:16.696994Z",
     "start_time": "2024-04-08T14:43:16.693842Z"
    }
   },
   "outputs": [
    {
     "data": {
      "text/plain": [
       "[2, 3, 5, 13, 15, 16, 18, 19, 20, 25]"
      ]
     },
     "execution_count": 60,
     "metadata": {},
     "output_type": "execute_result"
    }
   ],
   "execution_count": 60
  },
  {
   "metadata": {},
   "cell_type": "code",
   "outputs": [],
   "execution_count": null,
   "source": ""
  },
  {
   "metadata": {
    "ExecuteTime": {
     "end_time": "2024-11-12T03:59:57.292556Z",
     "start_time": "2024-11-12T03:59:57.272473Z"
    }
   },
   "cell_type": "code",
   "source": [
    "class Node:\n",
    "    def __init__(self, gizmo=None, gadget=None):\n",
    "        self.gizmo = gizmo\n",
    "        self.gadget = gadget\n",
    "        self.events = []  # List of events under this attempt (e.g., failures, successes, cached)\n",
    "        self.children = []  # List of child attempt nodes\n",
    "\n",
    "def process_log(log):\n",
    "    root_nodes = []\n",
    "    stack = []\n",
    "\n",
    "    for event in log:\n",
    "        event_type = event[0]\n",
    "\n",
    "        if event_type == 'attempt':\n",
    "            _, gizmo, gadget = event\n",
    "            node = Node(gizmo=gizmo, gadget=gadget)\n",
    "            if stack:\n",
    "                # Add as child of current node\n",
    "                stack[-1].children.append(node)\n",
    "            else:\n",
    "                # Top-level attempt\n",
    "                root_nodes.append(node)\n",
    "            stack.append(node)\n",
    "\n",
    "        elif event_type == 'cached':\n",
    "            _, gizmo, value = event\n",
    "            if stack:\n",
    "                # Add to events of current node\n",
    "                stack[-1].events.append(('cached', gizmo, value))\n",
    "            else:\n",
    "                # Top-level cached event\n",
    "                root_nodes.append(('cached', gizmo, value))\n",
    "\n",
    "        elif event_type == 'success':\n",
    "            _, gizmo, gadget, value = event\n",
    "            if stack:\n",
    "                node = stack.pop()\n",
    "                node.events.append(('success', gizmo, value))\n",
    "            else:\n",
    "                root_nodes.append(('success', gizmo, value))\n",
    "\n",
    "        elif event_type == 'failure':\n",
    "            _, gizmo, gadget, error = event\n",
    "            if stack:\n",
    "                node = stack[-1]\n",
    "                node.events.append(('failure', gizmo, error))\n",
    "                # Do not pop from the stack; attempt may continue\n",
    "            else:\n",
    "                root_nodes.append(('failure', gizmo, error))\n",
    "\n",
    "        elif event_type == 'missing':\n",
    "            _, gizmo = event\n",
    "            if stack:\n",
    "                node = stack[-1]\n",
    "                node.events.append(('missing', gizmo))\n",
    "                # Optionally handle the missing event\n",
    "            else:\n",
    "                root_nodes.append(('missing', gizmo))\n",
    "\n",
    "    return root_nodes\n",
    "\n",
    "def print_node(node, prefix='', is_last=True):\n",
    "    # Determine the connector\n",
    "    connector = '└── ' if is_last else '├── '\n",
    "\n",
    "    # Print the attempt\n",
    "    print(prefix + connector + 'Attempt: {} via {}'.format(node.gizmo, node.gadget))\n",
    "\n",
    "    # Prepare the new prefix for child nodes\n",
    "    if is_last:\n",
    "        child_prefix = prefix + '    '\n",
    "    else:\n",
    "        child_prefix = prefix + '│   '\n",
    "\n",
    "    # Combine events and children into one list, preserving order\n",
    "    items = []\n",
    "\n",
    "    # Add events first\n",
    "    for event in node.events:\n",
    "        items.append(event)\n",
    "\n",
    "    # Then add child attempts\n",
    "    for child in node.children:\n",
    "        items.append(child)\n",
    "\n",
    "    # Now, print each item\n",
    "    count = len(items)\n",
    "    for i, item in enumerate(items):\n",
    "        item_is_last = (i == count -1)\n",
    "        if isinstance(item, Node):\n",
    "            # It's a child node\n",
    "            print_node(item, child_prefix, item_is_last)\n",
    "        else:\n",
    "            # It's an event\n",
    "            event_type = item[0]\n",
    "            connector = '└── ' if item_is_last else '├── '\n",
    "            if event_type == 'failure':\n",
    "                _, gizmo, error = item\n",
    "                print(child_prefix + connector + 'Failure: {}, Error: {}'.format(gizmo, error))\n",
    "            elif event_type == 'success':\n",
    "                _, gizmo, value = item\n",
    "                print(child_prefix + connector + 'Success: {} = {}'.format(gizmo, value))\n",
    "            elif event_type == 'cached':\n",
    "                _, gizmo, value = item\n",
    "                print(child_prefix + connector + 'Cached: {} = {}'.format(gizmo, value))\n",
    "            elif event_type == 'missing':\n",
    "                _, gizmo = item\n",
    "                print(child_prefix + connector + 'Missing: {}'.format(gizmo))\n",
    "            else:\n",
    "                print(child_prefix + connector + '{}: {}'.format(event_type, gizmo))\n",
    "\n",
    "# Example log data\n",
    "log = [\n",
    "    ('attempt', 'c', '_ToolSkill(c)'),\n",
    "    ('attempt', 'b', 'AutoToolCraft(b)'),\n",
    "    ('failure', 'b', 'AutoToolCraft(b)', 'GadgetFailure(None)'),\n",
    "    ('attempt', 'b', '_ToolSkill(b)'),\n",
    "    ('attempt', 'a', '_ToolSkill(a)'),\n",
    "    ('success', 'a', '_ToolSkill(a)', 10),\n",
    "    ('success', 'b', '_ToolSkill(b)', 20),\n",
    "    ('cached', 'd', 5),\n",
    "    ('success', 'c', '_ToolSkill(c)', 15),\n",
    "    ('attempt', 'a', '_ToolSkill(a)'),\n",
    "    ('success', 'a', '_ToolSkill(a)', 10),\n",
    "    ('attempt', 'b', 'AutoToolCraft(b)'),\n",
    "    ('failure', 'b', 'AutoToolCraft(b)', 'GadgetFailure(None)'),\n",
    "    ('attempt', 'b', '_ToolSkill(b)'),\n",
    "    ('cached', 'a', 10),\n",
    "    ('success', 'b', '_ToolSkill(b)', 20),\n",
    "    ('attempt', 'c', '_ToolSkill(c)'),\n",
    "    ('cached', 'b', 20),\n",
    "    ('missing', 'd'),\n",
    "    ('cached', 'a', 10),\n",
    "]\n",
    "\n",
    "# Process the log and build the tree\n",
    "root_nodes = process_log(log)\n",
    "\n",
    "# Print the tree structure\n",
    "for i, node in enumerate(root_nodes):\n",
    "    is_last = (i == len(root_nodes) - 1)\n",
    "    if isinstance(node, Node):\n",
    "        print_node(node, '', is_last)\n",
    "    else:\n",
    "        # It's an event at the root level\n",
    "        event_type = node[0]\n",
    "        connector = '└── ' if is_last else '├── '\n",
    "        if event_type == 'cached':\n",
    "            _, gizmo, value = node\n",
    "            print(connector + 'Cached: {} = {}'.format(gizmo, value))\n",
    "        elif event_type == 'failure':\n",
    "            _, gizmo, error = node\n",
    "            print(connector + 'Failure: {}, Error: {}'.format(gizmo, error))\n",
    "        elif event_type == 'success':\n",
    "            _, gizmo, value = node\n",
    "            print(connector + 'Success: {} = {}'.format(gizmo, value))\n",
    "        elif event_type == 'missing':\n",
    "            _, gizmo = node\n",
    "            print(connector + 'Missing: {}'.format(gizmo))\n",
    "        else:\n",
    "            print(connector + '{}: {}'.format(event_type, gizmo))\n"
   ],
   "outputs": [
    {
     "name": "stdout",
     "output_type": "stream",
     "text": [
      "└── Attempt: c via _ToolSkill(c)\n",
      "    ├── Attempt: b via AutoToolCraft(b)\n",
      "    │   ├── Failure: b, Error: GadgetFailure(None)\n",
      "    │   ├── Cached: d = 5\n",
      "    │   ├── Success: c = 15\n",
      "    │   └── Attempt: b via _ToolSkill(b)\n",
      "    │       ├── Success: b = 20\n",
      "    │       └── Attempt: a via _ToolSkill(a)\n",
      "    │           └── Success: a = 10\n",
      "    ├── Attempt: a via _ToolSkill(a)\n",
      "    │   └── Success: a = 10\n",
      "    └── Attempt: b via AutoToolCraft(b)\n",
      "        ├── Failure: b, Error: GadgetFailure(None)\n",
      "        ├── Attempt: b via _ToolSkill(b)\n",
      "        │   ├── Cached: a = 10\n",
      "        │   └── Success: b = 20\n",
      "        └── Attempt: c via _ToolSkill(c)\n",
      "            ├── Cached: b = 20\n",
      "            ├── Missing: d\n",
      "            └── Cached: a = 10\n"
     ]
    }
   ],
   "execution_count": 3
  },
  {
   "metadata": {
    "ExecuteTime": {
     "end_time": "2024-11-12T04:28:30.055006Z",
     "start_time": "2024-11-12T04:28:30.040767Z"
    }
   },
   "cell_type": "code",
   "source": [
    "def visualize_log(log):\n",
    "    stack = []  # Keeps track of open attempts\n",
    "    indents = []  # Tracks the indentation and pipe characters for each level\n",
    "\n",
    "    for event in log:\n",
    "        event_type = event[0]\n",
    "\n",
    "        if event_type == 'attempt':\n",
    "            _, gizmo, gadget = event\n",
    "            # Push the attempt onto the stack\n",
    "            node = {'gizmo': gizmo, 'gadget': gadget, 'children': []}\n",
    "            if stack:\n",
    "                # Append to the children of the parent node\n",
    "                stack[-1]['children'].append(node)\n",
    "            stack.append(node)\n",
    "            # Update indents for the new level\n",
    "            if len(stack) == 1:\n",
    "                indents.append('')\n",
    "            else:\n",
    "                # Determine if the parent has more children to decide the pipe character\n",
    "                if len(stack[-2]['children']) > 1:\n",
    "                    indents.append('│   ')\n",
    "                else:\n",
    "                    indents.append('    ')\n",
    "            # Print the attempt with '┌── ' to start the pipe\n",
    "            prefix = ''.join(indents[:-1]) + '┌── '\n",
    "            print(prefix + 'Attempt: {} via {}'.format(gizmo, gadget))\n",
    "\n",
    "        elif event_type == 'cached':\n",
    "            _, gizmo, value = event\n",
    "            # Print the cached event at the current indentation level\n",
    "            prefix = ''.join(indents) + ('├── ' if stack else '')\n",
    "            print(prefix + 'Cached: {} = {}'.format(gizmo, value))\n",
    "\n",
    "        elif event_type == 'success':\n",
    "            _, gizmo, gadget, value = event\n",
    "            # Pop the attempt from the stack\n",
    "            node = stack.pop()\n",
    "            # Adjust indents\n",
    "            if stack:\n",
    "                indents.pop()\n",
    "            # Print the success with '└── ' to close the pipe\n",
    "            prefix = ''.join(indents) + ('└── ' if stack else '└── ')\n",
    "            print(prefix + 'Success: {} = {}'.format(gizmo, value))\n",
    "\n",
    "        elif event_type == 'failure':\n",
    "            _, gizmo, gadget, error = event\n",
    "            # Pop the attempt from the stack\n",
    "            node = stack.pop()\n",
    "            # Adjust indents\n",
    "            if stack:\n",
    "                indents.pop()\n",
    "            # Print the failure with '└── ' to close the pipe\n",
    "            prefix = ''.join(indents) + ('└── ' if stack else '└── ')\n",
    "            print(prefix + 'Failure: {}, Error: {}'.format(gizmo, error))\n",
    "\n",
    "        elif event_type == 'missing':\n",
    "            _, gizmo = event\n",
    "            # Print the missing event\n",
    "            prefix = ''.join(indents) + '├── '\n",
    "            print(prefix + 'Missing: {}'.format(gizmo))\n",
    "            if stack:\n",
    "                # Pop the parent attempt from the stack due to failure\n",
    "                node = stack.pop()\n",
    "                if stack:\n",
    "                    indents.pop()\n",
    "                # Print the failure of the parent attempt\n",
    "                prefix = ''.join(indents) + ('└── ' if stack else '└── ')\n",
    "                print(prefix + 'Failure: {}, Error: Missing dependency: {}'.format(node['gizmo'], gizmo))\n",
    "\n",
    "log = [\n",
    "    ('attempt', 'c', '_ToolSkill(c)'),\n",
    "    ('attempt', 'b', 'AutoToolCraft(b)'),\n",
    "    ('failure', 'b', 'AutoToolCraft(b)', 'GadgetFailure(None)'),\n",
    "    ('attempt', 'b', '_ToolSkill(b)'),\n",
    "    ('attempt', 'a', '_ToolSkill(a)'),\n",
    "    ('success', 'a', '_ToolSkill(a)', 10),\n",
    "    ('success', 'b', '_ToolSkill(b)', 20),\n",
    "    ('cached', 'd', 5),\n",
    "    ('success', 'c', '_ToolSkill(c)', 15),\n",
    "    ('attempt', 'a', '_ToolSkill(a)'),\n",
    "    ('success', 'a', '_ToolSkill(a)', 10),\n",
    "    ('attempt', 'b', 'AutoToolCraft(b)'),\n",
    "    ('failure', 'b', 'AutoToolCraft(b)', 'GadgetFailure(None)'),\n",
    "    ('attempt', 'b', '_ToolSkill(b)'),\n",
    "    ('cached', 'a', 10),\n",
    "    ('success', 'b', '_ToolSkill(b)', 20),\n",
    "    ('attempt', 'c', '_ToolSkill(c)'),\n",
    "    ('cached', 'b', 20),\n",
    "    ('missing', 'd'),\n",
    "    ('cached', 'a', 10),\n",
    "]\n",
    "\n",
    "# Visualize the log\n",
    "visualize_log(log)\n",
    "\n",
    "visualize_log(log)"
   ],
   "outputs": [
    {
     "name": "stdout",
     "output_type": "stream",
     "text": [
      "┌── Attempt: c via _ToolSkill(c)\n",
      "┌── Attempt: b via AutoToolCraft(b)\n",
      "└── Failure: b, Error: GadgetFailure(None)\n",
      "┌── Attempt: b via _ToolSkill(b)\n",
      "│   ┌── Attempt: a via _ToolSkill(a)\n",
      "│   └── Success: a = 10\n",
      "└── Success: b = 20\n",
      "├── Cached: d = 5\n",
      "└── Success: c = 15\n",
      "┌── Attempt: a via _ToolSkill(a)\n",
      "└── Success: a = 10\n",
      "┌── Attempt: b via AutoToolCraft(b)\n",
      "└── Failure: b, Error: GadgetFailure(None)\n",
      "┌── Attempt: b via _ToolSkill(b)\n",
      "├── Cached: a = 10\n",
      "└── Success: b = 20\n",
      "┌── Attempt: c via _ToolSkill(c)\n",
      "├── Cached: b = 20\n",
      "├── Missing: d\n",
      "└── Failure: c, Error: Missing dependency: d\n",
      "Cached: a = 10\n",
      "┌── Attempt: c via _ToolSkill(c)\n",
      "┌── Attempt: b via AutoToolCraft(b)\n",
      "└── Failure: b, Error: GadgetFailure(None)\n",
      "┌── Attempt: b via _ToolSkill(b)\n",
      "│   ┌── Attempt: a via _ToolSkill(a)\n",
      "│   └── Success: a = 10\n",
      "└── Success: b = 20\n",
      "├── Cached: d = 5\n",
      "└── Success: c = 15\n",
      "┌── Attempt: a via _ToolSkill(a)\n",
      "└── Success: a = 10\n",
      "┌── Attempt: b via AutoToolCraft(b)\n",
      "└── Failure: b, Error: GadgetFailure(None)\n",
      "┌── Attempt: b via _ToolSkill(b)\n",
      "├── Cached: a = 10\n",
      "└── Success: b = 20\n",
      "┌── Attempt: c via _ToolSkill(c)\n",
      "├── Cached: b = 20\n",
      "├── Missing: d\n",
      "└── Failure: c, Error: Missing dependency: d\n",
      "Cached: a = 10\n"
     ]
    }
   ],
   "execution_count": 3
  },
  {
   "metadata": {},
   "cell_type": "code",
   "outputs": [],
   "execution_count": null,
   "source": ""
  },
  {
   "metadata": {
    "ExecuteTime": {
     "end_time": "2024-11-12T04:28:32.364224Z",
     "start_time": "2024-11-12T04:28:32.345146Z"
    }
   },
   "cell_type": "code",
   "source": [
    "\n",
    "root = process_log(log)\n",
    "root"
   ],
   "outputs": [
    {
     "data": {
      "text/plain": [
       "[Node(c), Node(a), Node(b), Node(c), Node(a)]"
      ]
     },
     "execution_count": 4,
     "metadata": {},
     "output_type": "execute_result"
    }
   ],
   "execution_count": 4
  },
  {
   "metadata": {
    "ExecuteTime": {
     "end_time": "2024-11-12T04:29:06.633018Z",
     "start_time": "2024-11-12T04:29:06.625313Z"
    }
   },
   "cell_type": "code",
   "source": "root[2].followup",
   "outputs": [
    {
     "data": {
      "text/plain": [
       "[Node(a)]"
      ]
     },
     "execution_count": 10,
     "metadata": {},
     "output_type": "execute_result"
    }
   ],
   "execution_count": 10
  },
  {
   "metadata": {
    "ExecuteTime": {
     "end_time": "2024-11-12T05:54:10.028092Z",
     "start_time": "2024-11-12T05:54:10.015335Z"
    }
   },
   "cell_type": "code",
   "source": [
    "def print_node_tree(node, prefix='', is_last=True, is_followup=False):\n",
    "    # Determine the connector\n",
    "    # is_last = is_last or node.followup is not None\n",
    "    connector = '└── ' if is_last else '├── '\n",
    "    connector = '│   ' if is_followup else connector\n",
    "\n",
    "    # Print the attempt\n",
    "    print(prefix + connector + f\"{node.gizmo} ({node.outcome})\")\n",
    "\n",
    "    # Prepare the new prefix for child nodes\n",
    "    if is_last:\n",
    "        child_prefix = prefix + '    '\n",
    "    else:\n",
    "        child_prefix = prefix + '│   '\n",
    "\n",
    "    # Print each child\n",
    "    count = len(node.children)\n",
    "    for i, child in enumerate(node.children):\n",
    "        is_last = (i == count - 1)\n",
    "        print_node_tree(child, child_prefix, is_last)\n",
    "    \n",
    "    if node.followup:\n",
    "        print_node_tree(node.followup, prefix, is_last, True)\n",
    "        \n",
    "def print_event_tree(node, prefix='', is_last=True, is_followup=False):\n",
    "    \n",
    "    if node.outcome == 'cached':\n",
    "        print(prefix + '─── ' + f\"{node.gizmo} = {node.value}\")\n",
    "        return\n",
    "    \n",
    "    starter = '├── ' if is_followup else '┌── '\n",
    "    \n",
    "    if node.followup:\n",
    "        print(prefix + starter + f\"{node.gizmo} ({node.outcome})\")\n",
    "        print_event_tree(node.followup, prefix, is_last, True)\n",
    "    else:\n",
    "        print(prefix + starter + f\"{node.gizmo}\")\n",
    "        prefix += '│   '\n",
    "        for child in node.children:\n",
    "            print_event_tree(child, prefix, is_last)\n",
    "        prefix = prefix[:-4]\n",
    "        ender = '└── '\n",
    "        print(prefix + ender + f\"{node.outcome}\")\n",
    "        \n",
    "\n",
    "def print_node_tree(node, prefix='', is_first=True, is_last=True, is_followup=False, *, width=4, printer=None):\n",
    "    if printer is None:\n",
    "        printer = lambda node: node.gizmo\n",
    "    assert width >= 2, 'width must be at least 2'\n",
    "    # Determine the connector\n",
    "    # is_last = is_last or node.followup is not None\n",
    "    if is_first:\n",
    "        connector = ''\n",
    "    elif is_last:\n",
    "        connector = '└' + '─' * (width - 2) + ' '\n",
    "    elif node.followup is not None:\n",
    "        connector = '│' + ' ' * (width - 2) + ' '\n",
    "    else:\n",
    "        connector = '├' + '─' * (width - 2) + ' '\n",
    "    # Print the attempt\n",
    "    yield prefix + connector + printer(node)\n",
    "\n",
    "    # Prepare the new prefix for child nodes\n",
    "    if is_first:\n",
    "        child_prefix = prefix\n",
    "    elif is_last:\n",
    "        child_prefix = prefix + ' ' * width\n",
    "    else:\n",
    "        child_prefix = prefix + '│' + ' ' * (width - 1)\n",
    "\n",
    "    # Print each child\n",
    "    count = len(node.children)\n",
    "    for i, child in enumerate(node.children):\n",
    "        is_last = (i == count - 1)\n",
    "        yield from print_node_tree(child, child_prefix, False, is_last, width=width, printer=printer)\n",
    "    \n",
    "    if node.followup:\n",
    "        yield from print_node_tree(node.followup, prefix, False, is_last, True, width=width, printer=printer)\n",
    "        "
   ],
   "outputs": [],
   "execution_count": 155
  },
  {
   "metadata": {
    "ExecuteTime": {
     "end_time": "2024-11-12T05:54:10.736758Z",
     "start_time": "2024-11-12T05:54:10.730263Z"
    }
   },
   "cell_type": "code",
   "source": "print('\\n'.join(print_node_tree(root[0], width=4)))",
   "outputs": [
    {
     "name": "stdout",
     "output_type": "stream",
     "text": [
      "c\n",
      "│   b\n",
      "├── b\n",
      "│   └── a\n",
      "└── d\n"
     ]
    }
   ],
   "execution_count": 156
  },
  {
   "metadata": {},
   "cell_type": "code",
   "outputs": [],
   "execution_count": null,
   "source": ""
  },
  {
   "metadata": {},
   "cell_type": "markdown",
   "source": [
    "```\n",
    "┌── c\n",
    "│   ├── b (failure)\n",
    "│   │   b\n",
    "│   │   └── a\n",
    "│   └── d = 5\n",
    "└── success\n",
    "\n",
    "┌── c\n",
    "│   ┌── b (failure)\n",
    "│   ├── b\n",
    "│   │   ┌── a\n",
    "│   │   └── success\n",
    "│   └── success\n",
    "│   ─── d = 5\n",
    "└── success\n",
    "\n",
    "c (success)\n",
    "├── b (failure)\n",
    "│   b (success)\n",
    "│   └── a (success)\n",
    "└── d (cached)\n",
    "\n",
    "c (success)\n",
    "├─ b (failure)\n",
    "│  b (success)\n",
    "│  └─ a (success)\n",
    "└─ d (cached)\n",
    "\n",
    "c (success)\n",
    "├ b (failure)\n",
    "│ b (success)\n",
    "│ └ a (success)\n",
    "└ d (cached)"
   ]
  },
  {
   "metadata": {},
   "cell_type": "code",
   "outputs": [],
   "execution_count": null,
   "source": ""
  },
  {
   "metadata": {},
   "cell_type": "code",
   "outputs": [],
   "execution_count": null,
   "source": ""
  },
  {
   "metadata": {
    "ExecuteTime": {
     "end_time": "2024-11-12T05:35:30.063461Z",
     "start_time": "2024-11-12T05:35:30.054158Z"
    }
   },
   "cell_type": "code",
   "source": [
    "def report_time(t):\n",
    "    units = [\n",
    "        ('h', 3600, None),\n",
    "        ('min', 60, 3600),\n",
    "        ('s', 1, 60),\n",
    "        ('ms', 1e-3, 1),\n",
    "        ('µs', 1e-6, 1e-4)\n",
    "    ][::-1]\n",
    "    if t == 0:\n",
    "        return '0 µs'\n",
    "    for i, (unit_name, unit_scale, next_unit_threshold) in enumerate(units):\n",
    "        value = t / unit_scale\n",
    "        formatted_value = format_sig_figs(value, 2)\n",
    "        rounded_value = float(formatted_value)\n",
    "\n",
    "        # Check if the rounded value reaches or exceeds the threshold for the next unit\n",
    "        if next_unit_threshold is not None:\n",
    "            next_unit_value = next_unit_threshold / unit_scale\n",
    "            if rounded_value > next_unit_value:\n",
    "                continue  # Move to the next larger unit\n",
    "\n",
    "        return f\"{formatted_value} {unit_name}\"\n",
    "    # If none of the units matched, default to the largest unit\n",
    "    value = t / units[-1][1]\n",
    "    formatted_value = format_sig_figs(value, 2)\n",
    "    return f\"{formatted_value} {units[-1][0]}\"\n",
    "\n",
    "def format_sig_figs(num, sig_figs):\n",
    "    if num == 0:\n",
    "        return \"0\"\n",
    "    else:\n",
    "        import math\n",
    "        order = int(math.floor(math.log10(abs(num))))\n",
    "        factor = 10 ** (sig_figs - 1 - order)\n",
    "        rounded_num = round(num * factor) / factor\n",
    "        decimals = max(sig_figs - order - 1, 0)\n",
    "        # Avoid unnecessary decimal places if rounded_num is an integer\n",
    "        if rounded_num == int(rounded_num):\n",
    "            decimals = 0\n",
    "        format_string = \"{0:.\" + str(decimals) + \"f}\"\n",
    "        return format_string.format(rounded_num)"
   ],
   "outputs": [],
   "execution_count": 129
  },
  {
   "metadata": {
    "ExecuteTime": {
     "end_time": "2024-11-12T05:35:31.491136Z",
     "start_time": "2024-11-12T05:35:31.464130Z"
    }
   },
   "cell_type": "code",
   "source": [
    "# Test microseconds\n",
    "assert report_time(0) == \"0 µs\"\n",
    "assert report_time(1e-7) == \"0.10 µs\"\n",
    "assert report_time(5e-5) == \"50 µs\"\n",
    "assert report_time(9.99e-5) == \"100 µs\"\n",
    "\n",
    "# Test milliseconds\n",
    "assert report_time(1e-4) == \"0.10 ms\"\n",
    "assert report_time(0.00015) == \"0.15 ms\"\n",
    "assert report_time(0.005) == \"5.0 ms\"\n",
    "assert report_time(0.0999) == \"100 ms\"\n",
    "assert report_time(0.14122) == \"140 ms\"\n",
    "assert report_time(0.999) == \"1 s\"\n",
    "\n",
    "# Test seconds\n",
    "assert report_time(1) == \"1.0 s\"\n",
    "assert report_time(1.5) == \"1.5 s\"\n",
    "assert report_time(30.5) == \"31 s\"\n",
    "assert report_time(59.99) == \"60 s\"\n",
    "\n",
    "# Test minutes\n",
    "assert report_time(60) == \"1.0 min\"\n",
    "assert report_time(90) == \"1.5 min\"\n",
    "assert report_time(1800) == \"30 min\"\n",
    "assert report_time(3599) == \"60 min\"\n",
    "\n",
    "# Test hours\n",
    "assert report_time(3600) == \"1.0 h\"\n",
    "assert report_time(7200) == \"2.0 h\"\n",
    "assert report_time(10800) == \"3.0 h\"\n",
    "assert report_time(86400) == \"24 h\"\n",
    "\n",
    "# Test large values\n",
    "assert report_time(1e6) == \"280 h\"          # 1 million seconds\n",
    "assert report_time(2.592e6) == \"720 h\"      # 30 days in seconds\n",
    "assert report_time(1e9) == \"280,000 h\"      # Should not be in scientific notation\n",
    "\n",
    "# Test small values\n",
    "assert report_time(1e-10) == \"0.00010 µs\"\n",
    "assert report_time(5e-9) == \"0.0050 µs\"\n",
    "\n",
    "# Test negative values\n",
    "assert report_time(-1e-7) == \"-0.10 µs\"\n",
    "assert report_time(-0.005) == \"-5.0 ms\"\n",
    "assert report_time(-1) == \"-1.0 s\"\n",
    "assert report_time(-3600) == \"-1.0 h\"\n",
    "\n",
    "# Test edge cases\n",
    "assert report_time(1e-4) == \"0.10 ms\"  # Threshold between µs and ms\n",
    "assert report_time(1) == \"1.0 s\"       # Threshold between ms and s\n",
    "assert report_time(60) == \"1.0 min\"    # Threshold between s and min\n",
    "assert report_time(3600) == \"1.0 h\"    # Threshold between min and h\n",
    "\n",
    "# Test zero\n",
    "assert report_time(0) == \"0 µs\"\n",
    "\n",
    "# Test precision\n",
    "assert report_time(0.123456) == \"120 ms\"\n",
    "assert report_time(12.3456) == \"12 s\"\n",
    "assert report_time(123.456) == \"120 s\"\n",
    "assert report_time(1234.56) == \"21 min\"\n",
    "\n",
    "# Test no scientific notation\n",
    "result = report_time(999)\n",
    "assert \"e\" not in result, \"Output contains scientific notation\"\n",
    "result = report_time(1e6)\n",
    "assert \"e\" not in result, \"Output contains scientific notation\"\n"
   ],
   "outputs": [
    {
     "ename": "AssertionError",
     "evalue": "",
     "output_type": "error",
     "traceback": [
      "\u001B[1;31m---------------------------------------------------------------------------\u001B[0m",
      "\u001B[1;31mAssertionError\u001B[0m                            Traceback (most recent call last)",
      "Cell \u001B[1;32mIn[130], line 8\u001B[0m\n\u001B[0;32m      5\u001B[0m \u001B[38;5;28;01massert\u001B[39;00m report_time(\u001B[38;5;241m9.99e-5\u001B[39m) \u001B[38;5;241m==\u001B[39m \u001B[38;5;124m\"\u001B[39m\u001B[38;5;124m100 µs\u001B[39m\u001B[38;5;124m\"\u001B[39m\n\u001B[0;32m      7\u001B[0m \u001B[38;5;66;03m# Test milliseconds\u001B[39;00m\n\u001B[1;32m----> 8\u001B[0m \u001B[38;5;28;01massert\u001B[39;00m report_time(\u001B[38;5;241m1e-4\u001B[39m) \u001B[38;5;241m==\u001B[39m \u001B[38;5;124m\"\u001B[39m\u001B[38;5;124m0.10 ms\u001B[39m\u001B[38;5;124m\"\u001B[39m\n\u001B[0;32m      9\u001B[0m \u001B[38;5;28;01massert\u001B[39;00m report_time(\u001B[38;5;241m0.00015\u001B[39m) \u001B[38;5;241m==\u001B[39m \u001B[38;5;124m\"\u001B[39m\u001B[38;5;124m0.15 ms\u001B[39m\u001B[38;5;124m\"\u001B[39m\n\u001B[0;32m     10\u001B[0m \u001B[38;5;28;01massert\u001B[39;00m report_time(\u001B[38;5;241m0.005\u001B[39m) \u001B[38;5;241m==\u001B[39m \u001B[38;5;124m\"\u001B[39m\u001B[38;5;124m5.0 ms\u001B[39m\u001B[38;5;124m\"\u001B[39m\n",
      "\u001B[1;31mAssertionError\u001B[0m: "
     ]
    }
   ],
   "execution_count": 130
  },
  {
   "metadata": {
    "ExecuteTime": {
     "end_time": "2024-11-12T05:36:02.195032Z",
     "start_time": "2024-11-12T05:36:02.189454Z"
    }
   },
   "cell_type": "code",
   "source": "report_time(104e-6)",
   "outputs": [
    {
     "data": {
      "text/plain": [
       "'100 µs'"
      ]
     },
     "execution_count": 135,
     "metadata": {},
     "output_type": "execute_result"
    }
   ],
   "execution_count": 135
  },
  {
   "metadata": {},
   "cell_type": "code",
   "outputs": [],
   "execution_count": null,
   "source": ""
  },
  {
   "metadata": {},
   "cell_type": "code",
   "outputs": [],
   "execution_count": null,
   "source": ""
  },
  {
   "cell_type": "code",
   "execution_count": null,
   "outputs": [],
   "source": [],
   "metadata": {
    "collapsed": false
   }
  }
 ],
 "metadata": {
  "kernelspec": {
   "display_name": "Python 3",
   "language": "python",
   "name": "python3"
  },
  "language_info": {
   "codemirror_mode": {
    "name": "ipython",
    "version": 2
   },
   "file_extension": ".py",
   "mimetype": "text/x-python",
   "name": "python",
   "nbconvert_exporter": "python",
   "pygments_lexer": "ipython2",
   "version": "2.7.6"
  }
 },
 "nbformat": 4,
 "nbformat_minor": 0
}
